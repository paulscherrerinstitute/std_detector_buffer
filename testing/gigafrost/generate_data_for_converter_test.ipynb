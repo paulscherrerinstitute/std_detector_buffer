{
 "cells": [
  {
   "cell_type": "markdown",
   "metadata": {},
   "source": [
    "Generate 8x8 image, where each pixel encodes row and column info."
   ]
  },
  {
   "cell_type": "code",
   "execution_count": 1,
   "metadata": {},
   "outputs": [
    {
     "data": {
      "text/plain": [
       "array([[  0,   1,   2,   3,   4,   5,   6,   7],\n",
       "       [ 64,  65,  66,  67,  68,  69,  70,  71],\n",
       "       [128, 129, 130, 131, 132, 133, 134, 135],\n",
       "       [192, 193, 194, 195, 196, 197, 198, 199],\n",
       "       [256, 257, 258, 259, 260, 261, 262, 263],\n",
       "       [320, 321, 322, 323, 324, 325, 326, 327],\n",
       "       [384, 385, 386, 387, 388, 389, 390, 391],\n",
       "       [448, 449, 450, 451, 452, 453, 454, 455]], dtype=uint16)"
      ]
     },
     "execution_count": 1,
     "metadata": {},
     "output_type": "execute_result"
    }
   ],
   "source": [
    "import numpy as np\n",
    "\n",
    "height = 8\n",
    "width = 8\n",
    "\n",
    "pixels = np.zeros(shape=(height, width), dtype='uint16')\n",
    "for y in range(height):\n",
    "    for x in range(width):\n",
    "        pixels[y, x] = ((y % 64) << 6) | x % 64\n",
    "\n",
    "pixels"
   ]
  },
  {
   "cell_type": "markdown",
   "metadata": {},
   "source": [
    "Divide the image into 4 quadrants."
   ]
  },
  {
   "cell_type": "code",
   "execution_count": 2,
   "metadata": {},
   "outputs": [
    {
     "data": {
      "text/plain": [
       "array([[[260, 261, 262, 263],\n",
       "        [324, 325, 326, 327],\n",
       "        [388, 389, 390, 391],\n",
       "        [452, 453, 454, 455]],\n",
       "\n",
       "       [[256, 257, 258, 259],\n",
       "        [320, 321, 322, 323],\n",
       "        [384, 385, 386, 387],\n",
       "        [448, 449, 450, 451]],\n",
       "\n",
       "       [[  4,   5,   6,   7],\n",
       "        [ 68,  69,  70,  71],\n",
       "        [132, 133, 134, 135],\n",
       "        [196, 197, 198, 199]],\n",
       "\n",
       "       [[  0,   1,   2,   3],\n",
       "        [ 64,  65,  66,  67],\n",
       "        [128, 129, 130, 131],\n",
       "        [192, 193, 194, 195]]], dtype=uint16)"
      ]
     },
     "execution_count": 2,
     "metadata": {},
     "output_type": "execute_result"
    }
   ],
   "source": [
    "height = 8\n",
    "width = 8\n",
    "quadrants = np.zeros(dtype='uint16', shape=(4, height//2, width//2))\n",
    "SE, SW, NE, NW = 0, 1, 2, 3\n",
    "\n",
    "quadrants[SE] = pixels[4:, 4:]\n",
    "quadrants[SW] = pixels[4:, :4]\n",
    "quadrants[NE] = pixels[:4, 4:]\n",
    "quadrants[NW] = pixels[:4, :4]\n",
    "quadrants"
   ]
  },
  {
   "cell_type": "markdown",
   "metadata": {},
   "source": [
    "Divide the quadrants into octants."
   ]
  },
  {
   "cell_type": "code",
   "execution_count": 3,
   "metadata": {},
   "outputs": [
    {
     "data": {
      "text/plain": [
       "array([[[260, 261, 262, 263],\n",
       "        [388, 389, 390, 391]],\n",
       "\n",
       "       [[324, 325, 326, 327],\n",
       "        [452, 453, 454, 455]],\n",
       "\n",
       "       [[256, 257, 258, 259],\n",
       "        [384, 385, 386, 387]],\n",
       "\n",
       "       [[320, 321, 322, 323],\n",
       "        [448, 449, 450, 451]],\n",
       "\n",
       "       [[ 68,  69,  70,  71],\n",
       "        [196, 197, 198, 199]],\n",
       "\n",
       "       [[  4,   5,   6,   7],\n",
       "        [132, 133, 134, 135]],\n",
       "\n",
       "       [[ 64,  65,  66,  67],\n",
       "        [192, 193, 194, 195]],\n",
       "\n",
       "       [[  0,   1,   2,   3],\n",
       "        [128, 129, 130, 131]]], dtype=uint16)"
      ]
     },
     "execution_count": 3,
     "metadata": {},
     "output_type": "execute_result"
    }
   ],
   "source": [
    "SE0, SE1, SW0, SW1, NE0, NE1, NW0, NW1 = 0, 1, 2, 3, 4, 5, 6, 7\n",
    "octants = np.zeros(dtype='uint16', shape=(8, height//2//2, width//2))\n",
    "octants[SE0] = quadrants[SE, 0::2, :]\n",
    "octants[SE1] = quadrants[SE, 1::2, :]\n",
    "octants[SW0] = quadrants[SW, 0::2, :]\n",
    "octants[SW1] = quadrants[SW, 1::2, :]\n",
    "\n",
    "octants[NE1] = quadrants[NE, 0::2, :]\n",
    "octants[NE0] = quadrants[NE, 1::2, :]\n",
    "octants[NW1] = quadrants[NW, 0::2, :]\n",
    "octants[NW0] = quadrants[NW, 1::2, :]\n",
    "\n",
    "octants"
   ]
  },
  {
   "cell_type": "markdown",
   "metadata": {},
   "source": [
    "North octants stream in reverse order."
   ]
  },
  {
   "cell_type": "code",
   "execution_count": 4,
   "metadata": {},
   "outputs": [
    {
     "data": {
      "text/plain": [
       "array([[[260, 261, 262, 263],\n",
       "        [388, 389, 390, 391]],\n",
       "\n",
       "       [[324, 325, 326, 327],\n",
       "        [452, 453, 454, 455]],\n",
       "\n",
       "       [[256, 257, 258, 259],\n",
       "        [384, 385, 386, 387]],\n",
       "\n",
       "       [[320, 321, 322, 323],\n",
       "        [448, 449, 450, 451]],\n",
       "\n",
       "       [[196, 197, 198, 199],\n",
       "        [ 68,  69,  70,  71]],\n",
       "\n",
       "       [[132, 133, 134, 135],\n",
       "        [  4,   5,   6,   7]],\n",
       "\n",
       "       [[192, 193, 194, 195],\n",
       "        [ 64,  65,  66,  67]],\n",
       "\n",
       "       [[128, 129, 130, 131],\n",
       "        [  0,   1,   2,   3]]], dtype=uint16)"
      ]
     },
     "execution_count": 4,
     "metadata": {},
     "output_type": "execute_result"
    }
   ],
   "source": [
    "octants[NE0] = octants[NE0, ::-1]\n",
    "octants[NE1] = octants[NE1, ::-1]\n",
    "octants[NW0] = octants[NW0, ::-1]\n",
    "octants[NW1] = octants[NW1, ::-1]\n",
    "\n",
    "octants"
   ]
  },
  {
   "cell_type": "markdown",
   "metadata": {},
   "source": [
    "Pack octants to 12 bit pixels."
   ]
  },
  {
   "cell_type": "code",
   "execution_count": 5,
   "metadata": {},
   "outputs": [
    {
     "data": {
      "text/plain": [
       "array([[20740,  1552,  4209, 20868, 34328,  6257],\n",
       "       [20804, 17940,  5233, 20932, 50716,  7281],\n",
       "       [ 4352,   528,  4145,  4480, 33304,  6193],\n",
       "       [ 4416, 16916,  5169,  4544, 49692,  7217],\n",
       "       [20676, 50700,  3184, 20548, 17924,  1136],\n",
       "       [20612, 34312,  2160, 20484,  1536,   112],\n",
       "       [ 4288, 49676,  3120,  4160, 16900,  1072],\n",
       "       [ 4224, 33288,  2096,  4096,   512,    48]], dtype=uint16)"
      ]
     },
     "execution_count": 5,
     "metadata": {},
     "output_type": "execute_result"
    }
   ],
   "source": [
    "octant_bytes = np.zeros(shape=(8, 6), dtype='uint16')\n",
    "\n",
    "for i in range(8):\n",
    "    pixel_values = octants[i].flatten()\n",
    "\n",
    "    packed_bytes = 0\n",
    "    \n",
    "    for i_pixel, pixel in enumerate(pixel_values):\n",
    "        pixel = int(pixel)\n",
    "        packed_bytes |= pixel << (i_pixel * 12)\n",
    "\n",
    "    \n",
    "    octant_bytes[i] = np.frombuffer(packed_bytes.to_bytes(12, 'little'), dtype='uint16')\n",
    "    \n",
    "octant_bytes"
   ]
  },
  {
   "cell_type": "code",
   "execution_count": 6,
   "metadata": {},
   "outputs": [
    {
     "data": {
      "text/plain": [
       "'045110067110845118867118'"
      ]
     },
     "execution_count": 6,
     "metadata": {},
     "output_type": "execute_result"
    }
   ],
   "source": [
    "octant_bytes[0].tobytes().hex()"
   ]
  },
  {
   "cell_type": "code",
   "execution_count": 7,
   "metadata": {},
   "outputs": [
    {
     "data": {
      "text/plain": [
       "'0451'"
      ]
     },
     "execution_count": 7,
     "metadata": {},
     "output_type": "execute_result"
    }
   ],
   "source": [
    "int(20740).to_bytes(2, byteorder='little').hex()"
   ]
  }
 ],
 "metadata": {
  "kernelspec": {
   "display_name": "Python 3",
   "language": "python",
   "name": "python3"
  },
  "language_info": {
   "codemirror_mode": {
    "name": "ipython",
    "version": 3
   },
   "file_extension": ".py",
   "mimetype": "text/x-python",
   "name": "python",
   "nbconvert_exporter": "python",
   "pygments_lexer": "ipython3",
   "version": "3.7.4"
  }
 },
 "nbformat": 4,
 "nbformat_minor": 5
}
